{
 "cells": [
  {
   "cell_type": "markdown",
   "metadata": {},
   "source": [
    "# **COVID 19 Vaccines Up to Date for United States**"
   ]
  },
  {
   "cell_type": "markdown",
   "metadata": {},
   "source": [
    "Run on Python 3.12.0 | No errors | No warnings"
   ]
  },
  {
   "cell_type": "code",
   "execution_count": 1,
   "metadata": {},
   "outputs": [],
   "source": [
    "# -----------------------\n",
    "# Step 0: Import packages\n",
    "# ----------------------- \n",
    "\n",
    "# For data manipulation\n",
    "import numpy as np\n",
    "import pandas as pd\n",
    "\n",
    "# for displaying and modifying the working directory\n",
    "import os as os"
   ]
  },
  {
   "cell_type": "code",
   "execution_count": 2,
   "metadata": {},
   "outputs": [
    {
     "data": {
      "text/html": [
       "<div>\n",
       "<style scoped>\n",
       "    .dataframe tbody tr th:only-of-type {\n",
       "        vertical-align: middle;\n",
       "    }\n",
       "\n",
       "    .dataframe tbody tr th {\n",
       "        vertical-align: top;\n",
       "    }\n",
       "\n",
       "    .dataframe thead th {\n",
       "        text-align: right;\n",
       "    }\n",
       "</style>\n",
       "<table border=\"1\" class=\"dataframe\">\n",
       "  <thead>\n",
       "    <tr style=\"text-align: right;\">\n",
       "      <th></th>\n",
       "      <th>Date</th>\n",
       "      <th>Location</th>\n",
       "      <th>Demographic_Category</th>\n",
       "      <th>census</th>\n",
       "      <th>Up_to_date</th>\n",
       "      <th>Up_to_date_pct_agegroup</th>\n",
       "    </tr>\n",
       "  </thead>\n",
       "  <tbody>\n",
       "    <tr>\n",
       "      <th>0</th>\n",
       "      <td>10/11/2023</td>\n",
       "      <td>AK</td>\n",
       "      <td>Male_Ages_&lt;5yrs</td>\n",
       "      <td>26153</td>\n",
       "      <td>158</td>\n",
       "      <td>0.6</td>\n",
       "    </tr>\n",
       "    <tr>\n",
       "      <th>1</th>\n",
       "      <td>10/11/2023</td>\n",
       "      <td>AL</td>\n",
       "      <td>Female_Ages_2-4_yrs</td>\n",
       "      <td>88242</td>\n",
       "      <td>147</td>\n",
       "      <td>0.2</td>\n",
       "    </tr>\n",
       "    <tr>\n",
       "      <th>2</th>\n",
       "      <td>10/11/2023</td>\n",
       "      <td>AR</td>\n",
       "      <td>Female_Ages_50-64_yrs</td>\n",
       "      <td>291030</td>\n",
       "      <td>44168</td>\n",
       "      <td>15.2</td>\n",
       "    </tr>\n",
       "    <tr>\n",
       "      <th>3</th>\n",
       "      <td>10/11/2023</td>\n",
       "      <td>AS</td>\n",
       "      <td>Ages_12-17_yrs</td>\n",
       "      <td>5582</td>\n",
       "      <td>0</td>\n",
       "      <td>0.0</td>\n",
       "    </tr>\n",
       "    <tr>\n",
       "      <th>4</th>\n",
       "      <td>10/11/2023</td>\n",
       "      <td>AS</td>\n",
       "      <td>Male_Ages_65-74_yrs</td>\n",
       "      <td>1051</td>\n",
       "      <td>0</td>\n",
       "      <td>0.0</td>\n",
       "    </tr>\n",
       "  </tbody>\n",
       "</table>\n",
       "</div>"
      ],
      "text/plain": [
       "         Date Location   Demographic_Category  census  Up_to_date  \\\n",
       "0  10/11/2023       AK        Male_Ages_<5yrs   26153         158   \n",
       "1  10/11/2023       AL    Female_Ages_2-4_yrs   88242         147   \n",
       "2  10/11/2023       AR  Female_Ages_50-64_yrs  291030       44168   \n",
       "3  10/11/2023       AS         Ages_12-17_yrs    5582           0   \n",
       "4  10/11/2023       AS    Male_Ages_65-74_yrs    1051           0   \n",
       "\n",
       "   Up_to_date_pct_agegroup  \n",
       "0                      0.6  \n",
       "1                      0.2  \n",
       "2                     15.2  \n",
       "3                      0.0  \n",
       "4                      0.0  "
      ]
     },
     "execution_count": 2,
     "metadata": {},
     "output_type": "execute_result"
    }
   ],
   "source": [
    "# -----------------------------------------------\n",
    "# Step 1: Load dataset into dataframe and verify\n",
    "# -----------------------------------------------\n",
    "\n",
    "# Tell python where to find the dataset and load it to dataframe df0\n",
    "os.chdir(r'D:\\OneDrive\\Documents\\Python\\Current\\COVID 19 Vaccine Up to Date') # absolute path, using \\ and r prefix\n",
    "df0 = pd.read_csv(\"COVID-19_Vaccines_Up_to_Date_Status.csv\")\n",
    "\n",
    "# Display the first 5 rows of the dataframe\n",
    "df0.head()"
   ]
  },
  {
   "cell_type": "code",
   "execution_count": 3,
   "metadata": {},
   "outputs": [
    {
     "name": "stdout",
     "output_type": "stream",
     "text": [
      "<class 'pandas.core.frame.DataFrame'>\n",
      "RangeIndex: 12685 entries, 0 to 12684\n",
      "Data columns (total 6 columns):\n",
      " #   Column                   Non-Null Count  Dtype  \n",
      "---  ------                   --------------  -----  \n",
      " 0   Date                     12685 non-null  object \n",
      " 1   Location                 12685 non-null  object \n",
      " 2   Demographic_Category     12685 non-null  object \n",
      " 3   census                   12685 non-null  int64  \n",
      " 4   Up_to_date               12685 non-null  int64  \n",
      " 5   Up_to_date_pct_agegroup  12685 non-null  float64\n",
      "dtypes: float64(1), int64(2), object(3)\n",
      "memory usage: 594.7+ KB\n"
     ]
    }
   ],
   "source": [
    "# ------------------------------------------------------------\n",
    "# Step 2: Initial Exploratory Data Analysis (EDA) and Cleaning\n",
    "# ------------------------------------------------------------\n",
    "\n",
    "# Display basic information about the data \n",
    "df0.info()"
   ]
  },
  {
   "cell_type": "markdown",
   "metadata": {},
   "source": [
    "We're starting with 12,685 rows and 6 columns."
   ]
  },
  {
   "cell_type": "code",
   "execution_count": 4,
   "metadata": {},
   "outputs": [
    {
     "data": {
      "text/plain": [
       "(12685, 6)"
      ]
     },
     "execution_count": 4,
     "metadata": {},
     "output_type": "execute_result"
    }
   ],
   "source": [
    "# Display the dataframe shape (rows, columns)\n",
    "df0.shape"
   ]
  },
  {
   "cell_type": "code",
   "execution_count": 5,
   "metadata": {},
   "outputs": [
    {
     "data": {
      "text/html": [
       "<div>\n",
       "<style scoped>\n",
       "    .dataframe tbody tr th:only-of-type {\n",
       "        vertical-align: middle;\n",
       "    }\n",
       "\n",
       "    .dataframe tbody tr th {\n",
       "        vertical-align: top;\n",
       "    }\n",
       "\n",
       "    .dataframe thead th {\n",
       "        text-align: right;\n",
       "    }\n",
       "</style>\n",
       "<table border=\"1\" class=\"dataframe\">\n",
       "  <thead>\n",
       "    <tr style=\"text-align: right;\">\n",
       "      <th></th>\n",
       "      <th>census</th>\n",
       "      <th>Up_to_date</th>\n",
       "      <th>Up_to_date_pct_agegroup</th>\n",
       "    </tr>\n",
       "  </thead>\n",
       "  <tbody>\n",
       "    <tr>\n",
       "      <th>count</th>\n",
       "      <td>1.268500e+04</td>\n",
       "      <td>1.268500e+04</td>\n",
       "      <td>12685.000000</td>\n",
       "    </tr>\n",
       "    <tr>\n",
       "      <th>mean</th>\n",
       "      <td>5.374280e+05</td>\n",
       "      <td>8.556774e+04</td>\n",
       "      <td>13.460899</td>\n",
       "    </tr>\n",
       "    <tr>\n",
       "      <th>std</th>\n",
       "      <td>1.205460e+06</td>\n",
       "      <td>2.337061e+05</td>\n",
       "      <td>18.006691</td>\n",
       "    </tr>\n",
       "    <tr>\n",
       "      <th>min</th>\n",
       "      <td>0.000000e+00</td>\n",
       "      <td>0.000000e+00</td>\n",
       "      <td>0.000000</td>\n",
       "    </tr>\n",
       "    <tr>\n",
       "      <th>25%</th>\n",
       "      <td>4.610100e+04</td>\n",
       "      <td>6.900000e+01</td>\n",
       "      <td>0.000000</td>\n",
       "    </tr>\n",
       "    <tr>\n",
       "      <th>50%</th>\n",
       "      <td>1.853310e+05</td>\n",
       "      <td>8.551000e+03</td>\n",
       "      <td>5.800000</td>\n",
       "    </tr>\n",
       "    <tr>\n",
       "      <th>75%</th>\n",
       "      <td>5.307120e+05</td>\n",
       "      <td>7.157700e+04</td>\n",
       "      <td>18.400000</td>\n",
       "    </tr>\n",
       "    <tr>\n",
       "      <th>max</th>\n",
       "      <td>1.986737e+07</td>\n",
       "      <td>4.780943e+06</td>\n",
       "      <td>92.700000</td>\n",
       "    </tr>\n",
       "  </tbody>\n",
       "</table>\n",
       "</div>"
      ],
      "text/plain": [
       "             census    Up_to_date  Up_to_date_pct_agegroup\n",
       "count  1.268500e+04  1.268500e+04             12685.000000\n",
       "mean   5.374280e+05  8.556774e+04                13.460899\n",
       "std    1.205460e+06  2.337061e+05                18.006691\n",
       "min    0.000000e+00  0.000000e+00                 0.000000\n",
       "25%    4.610100e+04  6.900000e+01                 0.000000\n",
       "50%    1.853310e+05  8.551000e+03                 5.800000\n",
       "75%    5.307120e+05  7.157700e+04                18.400000\n",
       "max    1.986737e+07  4.780943e+06                92.700000"
      ]
     },
     "execution_count": 5,
     "metadata": {},
     "output_type": "execute_result"
    }
   ],
   "source": [
    "# Display descriptive statistics about the data\n",
    "df0.describe()"
   ]
  },
  {
   "cell_type": "markdown",
   "metadata": {},
   "source": [
    "The numeric data looks good. Nothing concerning."
   ]
  },
  {
   "cell_type": "code",
   "execution_count": 6,
   "metadata": {},
   "outputs": [
    {
     "data": {
      "text/plain": [
       "Index(['Date', 'Location', 'Demographic_Category', 'census', 'Up_to_date',\n",
       "       'Up_to_date_pct_agegroup'],\n",
       "      dtype='object')"
      ]
     },
     "execution_count": 6,
     "metadata": {},
     "output_type": "execute_result"
    }
   ],
   "source": [
    "# Display column names \n",
    "df0.columns"
   ]
  },
  {
   "cell_type": "code",
   "execution_count": 7,
   "metadata": {},
   "outputs": [
    {
     "data": {
      "text/plain": [
       "Date                       0\n",
       "Location                   0\n",
       "Demographic_Category       0\n",
       "census                     0\n",
       "Up_to_date                 0\n",
       "Up_to_date_pct_agegroup    0\n",
       "dtype: int64"
      ]
     },
     "execution_count": 7,
     "metadata": {},
     "output_type": "execute_result"
    }
   ],
   "source": [
    "# Check for missing values\n",
    "df0.isna().sum()"
   ]
  },
  {
   "cell_type": "markdown",
   "metadata": {},
   "source": [
    "There are no missing (NA) values."
   ]
  },
  {
   "cell_type": "code",
   "execution_count": 8,
   "metadata": {},
   "outputs": [],
   "source": [
    "# Convert date objects to date values\n",
    "# df0['Date'] = pd.to_datetime(df0['Date'])"
   ]
  },
  {
   "cell_type": "code",
   "execution_count": 9,
   "metadata": {},
   "outputs": [],
   "source": [
    "# Drop the 'Up_to_date_pct_agegroup' column as it's not needed. We can calculate it as needed in Tableau.\n",
    "df0=df0.drop('Up_to_date_pct_agegroup', axis=1)"
   ]
  },
  {
   "cell_type": "code",
   "execution_count": 10,
   "metadata": {},
   "outputs": [
    {
     "name": "stdout",
     "output_type": "stream",
     "text": [
      "<class 'pandas.core.frame.DataFrame'>\n",
      "RangeIndex: 12685 entries, 0 to 12684\n",
      "Data columns (total 5 columns):\n",
      " #   Column                Non-Null Count  Dtype \n",
      "---  ------                --------------  ----- \n",
      " 0   Date                  12685 non-null  object\n",
      " 1   Location              12685 non-null  object\n",
      " 2   Demographic_Category  12685 non-null  object\n",
      " 3   census                12685 non-null  int64 \n",
      " 4   Up_to_date            12685 non-null  int64 \n",
      "dtypes: int64(2), object(3)\n",
      "memory usage: 495.6+ KB\n"
     ]
    }
   ],
   "source": [
    "# Verify the column has been dropped and that we still have the same number of records\n",
    "df0.info()"
   ]
  },
  {
   "cell_type": "code",
   "execution_count": 11,
   "metadata": {},
   "outputs": [],
   "source": [
    "# Drop the demographic categories starting with Age (they're aggregate data and not needed)\n",
    "df0 = df0.drop(df0[df0['Demographic_Category'].str.startswith('Age')].index)"
   ]
  },
  {
   "cell_type": "code",
   "execution_count": 12,
   "metadata": {},
   "outputs": [],
   "source": [
    "# Drop the demographic categories starting with Sex (they're aggregate data and not needed)\n",
    "df0 = df0.drop(df0[df0['Demographic_Category'].str.startswith('Sex')].index)"
   ]
  },
  {
   "cell_type": "code",
   "execution_count": 13,
   "metadata": {},
   "outputs": [],
   "source": [
    "# Drop the demographic categories we don't need (they overlap with other categories and create duplicate data)\n",
    "df0 = df0.drop(df0[df0['Demographic_Category'].str.endswith('<5yrs')].index)\n",
    "df0 = df0.drop(df0[df0['Demographic_Category'].str.endswith('25-49_yrs')].index)\n",
    "df0 = df0.drop(df0[df0['Demographic_Category'].str.endswith('65+_yrs')].index)"
   ]
  },
  {
   "cell_type": "code",
   "execution_count": 14,
   "metadata": {},
   "outputs": [],
   "source": [
    "# Drop the rows with census counts of 0\n",
    "df0 = df0.drop(df0[df0['census'] == 0].index)"
   ]
  },
  {
   "cell_type": "code",
   "execution_count": 15,
   "metadata": {},
   "outputs": [],
   "source": [
    "# Drop the rows with up to date counts of 0\n",
    "df0 = df0.drop(df0[df0['Up_to_date'] == 0].index)"
   ]
  },
  {
   "cell_type": "code",
   "execution_count": 16,
   "metadata": {},
   "outputs": [],
   "source": [
    "# Drop the US territories as much  of the data is missing\n",
    "df0 = df0.drop(df0[df0['Location'].isin(['AS', 'FM', 'GU', 'MH', 'MP', 'PR', 'PW', 'VI'])].index)"
   ]
  },
  {
   "cell_type": "code",
   "execution_count": 17,
   "metadata": {},
   "outputs": [],
   "source": [
    "# Create and populate Gender column\n",
    "df0['Gender'] = np.where(df0['Demographic_Category'].str.startswith('Female'), 'Female', 'Male')\n"
   ]
  },
  {
   "cell_type": "code",
   "execution_count": 18,
   "metadata": {},
   "outputs": [],
   "source": [
    "# Create and populate Age Group column\n",
    "df0['Age Group'] = np.where(df0['Demographic_Category'].str.endswith('<2yrs'), '< 2',\n",
    "             np.where(df0['Demographic_Category'].str.endswith('2-4_yrs'), '2 to 4', \n",
    "             np.where(df0['Demographic_Category'].str.endswith('5-11_yrs'), '5 to 11',\n",
    "             np.where(df0['Demographic_Category'].str.endswith('12-17_yrs'), '12 to 17',\n",
    "             np.where(df0['Demographic_Category'].str.endswith('18-24_yrs'), '18 to 24',\n",
    "             np.where(df0['Demographic_Category'].str.endswith('25-39_yrs'), '25 to 39',\n",
    "             np.where(df0['Demographic_Category'].str.endswith('40-49_yrs'), '40 to 49',         \n",
    "             np.where(df0['Demographic_Category'].str.endswith('50-64_yrs'), '50 to 64',\n",
    "             np.where(df0['Demographic_Category'].str.endswith('65-74_yrs'), '65 to 74',        \n",
    "             np.where(df0['Demographic_Category'].str.endswith('75+_yrs'), '75+', 'Unknown'))))))))))"
   ]
  },
  {
   "cell_type": "code",
   "execution_count": 19,
   "metadata": {},
   "outputs": [
    {
     "data": {
      "text/html": [
       "<div>\n",
       "<style scoped>\n",
       "    .dataframe tbody tr th:only-of-type {\n",
       "        vertical-align: middle;\n",
       "    }\n",
       "\n",
       "    .dataframe tbody tr th {\n",
       "        vertical-align: top;\n",
       "    }\n",
       "\n",
       "    .dataframe thead th {\n",
       "        text-align: right;\n",
       "    }\n",
       "</style>\n",
       "<table border=\"1\" class=\"dataframe\">\n",
       "  <thead>\n",
       "    <tr style=\"text-align: right;\">\n",
       "      <th></th>\n",
       "      <th>Date</th>\n",
       "      <th>Location</th>\n",
       "      <th>Demographic_Category</th>\n",
       "      <th>census</th>\n",
       "      <th>Up_to_date</th>\n",
       "      <th>Gender</th>\n",
       "      <th>Age Group</th>\n",
       "    </tr>\n",
       "  </thead>\n",
       "  <tbody>\n",
       "    <tr>\n",
       "      <th>1</th>\n",
       "      <td>10/11/2023</td>\n",
       "      <td>AL</td>\n",
       "      <td>Female_Ages_2-4_yrs</td>\n",
       "      <td>88242</td>\n",
       "      <td>147</td>\n",
       "      <td>Female</td>\n",
       "      <td>2 to 4</td>\n",
       "    </tr>\n",
       "    <tr>\n",
       "      <th>2</th>\n",
       "      <td>10/11/2023</td>\n",
       "      <td>AR</td>\n",
       "      <td>Female_Ages_50-64_yrs</td>\n",
       "      <td>291030</td>\n",
       "      <td>44168</td>\n",
       "      <td>Female</td>\n",
       "      <td>50 to 64</td>\n",
       "    </tr>\n",
       "    <tr>\n",
       "      <th>5</th>\n",
       "      <td>10/11/2023</td>\n",
       "      <td>CA</td>\n",
       "      <td>Female_Ages_25-39_yrs</td>\n",
       "      <td>4290688</td>\n",
       "      <td>756614</td>\n",
       "      <td>Female</td>\n",
       "      <td>25 to 39</td>\n",
       "    </tr>\n",
       "    <tr>\n",
       "      <th>6</th>\n",
       "      <td>10/11/2023</td>\n",
       "      <td>CO</td>\n",
       "      <td>Female_Ages_25-39_yrs</td>\n",
       "      <td>640481</td>\n",
       "      <td>121887</td>\n",
       "      <td>Female</td>\n",
       "      <td>25 to 39</td>\n",
       "    </tr>\n",
       "    <tr>\n",
       "      <th>7</th>\n",
       "      <td>10/11/2023</td>\n",
       "      <td>CT</td>\n",
       "      <td>Female_Ages_&lt;2yrs</td>\n",
       "      <td>34109</td>\n",
       "      <td>655</td>\n",
       "      <td>Female</td>\n",
       "      <td>&lt; 2</td>\n",
       "    </tr>\n",
       "  </tbody>\n",
       "</table>\n",
       "</div>"
      ],
      "text/plain": [
       "         Date Location   Demographic_Category   census  Up_to_date  Gender  \\\n",
       "1  10/11/2023       AL    Female_Ages_2-4_yrs    88242         147  Female   \n",
       "2  10/11/2023       AR  Female_Ages_50-64_yrs   291030       44168  Female   \n",
       "5  10/11/2023       CA  Female_Ages_25-39_yrs  4290688      756614  Female   \n",
       "6  10/11/2023       CO  Female_Ages_25-39_yrs   640481      121887  Female   \n",
       "7  10/11/2023       CT      Female_Ages_<2yrs    34109         655  Female   \n",
       "\n",
       "  Age Group  \n",
       "1    2 to 4  \n",
       "2  50 to 64  \n",
       "5  25 to 39  \n",
       "6  25 to 39  \n",
       "7       < 2  "
      ]
     },
     "execution_count": 19,
     "metadata": {},
     "output_type": "execute_result"
    }
   ],
   "source": [
    "# Displa ythe first 5 rows of the dataframe to verify the changes\n",
    "df0.head()"
   ]
  },
  {
   "cell_type": "code",
   "execution_count": 20,
   "metadata": {},
   "outputs": [
    {
     "name": "stdout",
     "output_type": "stream",
     "text": [
      "<class 'pandas.core.frame.DataFrame'>\n",
      "Index: 4285 entries, 1 to 12681\n",
      "Data columns (total 7 columns):\n",
      " #   Column                Non-Null Count  Dtype \n",
      "---  ------                --------------  ----- \n",
      " 0   Date                  4285 non-null   object\n",
      " 1   Location              4285 non-null   object\n",
      " 2   Demographic_Category  4285 non-null   object\n",
      " 3   census                4285 non-null   int64 \n",
      " 4   Up_to_date            4285 non-null   int64 \n",
      " 5   Gender                4285 non-null   object\n",
      " 6   Age Group             4285 non-null   object\n",
      "dtypes: int64(2), object(5)\n",
      "memory usage: 267.8+ KB\n"
     ]
    }
   ],
   "source": [
    "# Check the record count and data types\n",
    "df0.info()"
   ]
  },
  {
   "cell_type": "markdown",
   "metadata": {},
   "source": [
    "We're down to 4,285 records."
   ]
  },
  {
   "cell_type": "code",
   "execution_count": 21,
   "metadata": {},
   "outputs": [],
   "source": [
    "# Drop the 'Demographic_Category' column as it's no longer needed\n",
    "df0=df0.drop('Demographic_Category', axis=1)"
   ]
  },
  {
   "cell_type": "code",
   "execution_count": 22,
   "metadata": {},
   "outputs": [
    {
     "data": {
      "text/html": [
       "<div>\n",
       "<style scoped>\n",
       "    .dataframe tbody tr th:only-of-type {\n",
       "        vertical-align: middle;\n",
       "    }\n",
       "\n",
       "    .dataframe tbody tr th {\n",
       "        vertical-align: top;\n",
       "    }\n",
       "\n",
       "    .dataframe thead th {\n",
       "        text-align: right;\n",
       "    }\n",
       "</style>\n",
       "<table border=\"1\" class=\"dataframe\">\n",
       "  <thead>\n",
       "    <tr style=\"text-align: right;\">\n",
       "      <th></th>\n",
       "      <th>Date</th>\n",
       "      <th>Location</th>\n",
       "      <th>census</th>\n",
       "      <th>Up_to_date</th>\n",
       "      <th>Gender</th>\n",
       "      <th>Age Group</th>\n",
       "    </tr>\n",
       "  </thead>\n",
       "  <tbody>\n",
       "    <tr>\n",
       "      <th>1</th>\n",
       "      <td>10/11/2023</td>\n",
       "      <td>AL</td>\n",
       "      <td>88242</td>\n",
       "      <td>147</td>\n",
       "      <td>Female</td>\n",
       "      <td>2 to 4</td>\n",
       "    </tr>\n",
       "    <tr>\n",
       "      <th>2</th>\n",
       "      <td>10/11/2023</td>\n",
       "      <td>AR</td>\n",
       "      <td>291030</td>\n",
       "      <td>44168</td>\n",
       "      <td>Female</td>\n",
       "      <td>50 to 64</td>\n",
       "    </tr>\n",
       "    <tr>\n",
       "      <th>5</th>\n",
       "      <td>10/11/2023</td>\n",
       "      <td>CA</td>\n",
       "      <td>4290688</td>\n",
       "      <td>756614</td>\n",
       "      <td>Female</td>\n",
       "      <td>25 to 39</td>\n",
       "    </tr>\n",
       "    <tr>\n",
       "      <th>6</th>\n",
       "      <td>10/11/2023</td>\n",
       "      <td>CO</td>\n",
       "      <td>640481</td>\n",
       "      <td>121887</td>\n",
       "      <td>Female</td>\n",
       "      <td>25 to 39</td>\n",
       "    </tr>\n",
       "    <tr>\n",
       "      <th>7</th>\n",
       "      <td>10/11/2023</td>\n",
       "      <td>CT</td>\n",
       "      <td>34109</td>\n",
       "      <td>655</td>\n",
       "      <td>Female</td>\n",
       "      <td>&lt; 2</td>\n",
       "    </tr>\n",
       "  </tbody>\n",
       "</table>\n",
       "</div>"
      ],
      "text/plain": [
       "         Date Location   census  Up_to_date  Gender Age Group\n",
       "1  10/11/2023       AL    88242         147  Female    2 to 4\n",
       "2  10/11/2023       AR   291030       44168  Female  50 to 64\n",
       "5  10/11/2023       CA  4290688      756614  Female  25 to 39\n",
       "6  10/11/2023       CO   640481      121887  Female  25 to 39\n",
       "7  10/11/2023       CT    34109         655  Female       < 2"
      ]
     },
     "execution_count": 22,
     "metadata": {},
     "output_type": "execute_result"
    }
   ],
   "source": [
    "# Verify the changes\n",
    "df0.head()"
   ]
  },
  {
   "cell_type": "code",
   "execution_count": 23,
   "metadata": {},
   "outputs": [],
   "source": [
    "# Rename the columns that don't match what we already have in Tableau\n",
    "df0.rename(columns={'census': 'Census', 'Up_to_date': 'Up to Date', 'Location': 'State'}, inplace=True)"
   ]
  },
  {
   "cell_type": "markdown",
   "metadata": {},
   "source": [
    "Renaming 'Location', to 'State' allows Tableau to automatically recognize the US state abbreviations as geographic data and allows us to easily create a map visualization."
   ]
  },
  {
   "cell_type": "code",
   "execution_count": 24,
   "metadata": {},
   "outputs": [
    {
     "data": {
      "text/html": [
       "<div>\n",
       "<style scoped>\n",
       "    .dataframe tbody tr th:only-of-type {\n",
       "        vertical-align: middle;\n",
       "    }\n",
       "\n",
       "    .dataframe tbody tr th {\n",
       "        vertical-align: top;\n",
       "    }\n",
       "\n",
       "    .dataframe thead th {\n",
       "        text-align: right;\n",
       "    }\n",
       "</style>\n",
       "<table border=\"1\" class=\"dataframe\">\n",
       "  <thead>\n",
       "    <tr style=\"text-align: right;\">\n",
       "      <th></th>\n",
       "      <th>State</th>\n",
       "      <th>State Name</th>\n",
       "    </tr>\n",
       "  </thead>\n",
       "  <tbody>\n",
       "    <tr>\n",
       "      <th>0</th>\n",
       "      <td>AL</td>\n",
       "      <td>Alabama</td>\n",
       "    </tr>\n",
       "    <tr>\n",
       "      <th>1</th>\n",
       "      <td>AK</td>\n",
       "      <td>Alaska</td>\n",
       "    </tr>\n",
       "    <tr>\n",
       "      <th>2</th>\n",
       "      <td>AZ</td>\n",
       "      <td>Arizona</td>\n",
       "    </tr>\n",
       "    <tr>\n",
       "      <th>3</th>\n",
       "      <td>AR</td>\n",
       "      <td>Arkansas</td>\n",
       "    </tr>\n",
       "    <tr>\n",
       "      <th>4</th>\n",
       "      <td>CA</td>\n",
       "      <td>California</td>\n",
       "    </tr>\n",
       "  </tbody>\n",
       "</table>\n",
       "</div>"
      ],
      "text/plain": [
       "  State  State Name\n",
       "0    AL     Alabama\n",
       "1    AK      Alaska\n",
       "2    AZ     Arizona\n",
       "3    AR    Arkansas\n",
       "4    CA  California"
      ]
     },
     "execution_count": 24,
     "metadata": {},
     "output_type": "execute_result"
    }
   ],
   "source": [
    "# Load the state names file and join it to the dataframe\n",
    "df1 = pd.read_csv(\"State Names.csv\")\n",
    "\n",
    "# Display the first 5 rows of the dataframe\n",
    "df1.head()"
   ]
  },
  {
   "cell_type": "code",
   "execution_count": 25,
   "metadata": {},
   "outputs": [],
   "source": [
    "# Merge the dataframes\n",
    "df0 = df0.merge(df1, how='left', on='State')"
   ]
  },
  {
   "cell_type": "code",
   "execution_count": 26,
   "metadata": {},
   "outputs": [
    {
     "data": {
      "text/html": [
       "<div>\n",
       "<style scoped>\n",
       "    .dataframe tbody tr th:only-of-type {\n",
       "        vertical-align: middle;\n",
       "    }\n",
       "\n",
       "    .dataframe tbody tr th {\n",
       "        vertical-align: top;\n",
       "    }\n",
       "\n",
       "    .dataframe thead th {\n",
       "        text-align: right;\n",
       "    }\n",
       "</style>\n",
       "<table border=\"1\" class=\"dataframe\">\n",
       "  <thead>\n",
       "    <tr style=\"text-align: right;\">\n",
       "      <th></th>\n",
       "      <th>Date</th>\n",
       "      <th>State</th>\n",
       "      <th>Census</th>\n",
       "      <th>Up to Date</th>\n",
       "      <th>Gender</th>\n",
       "      <th>Age Group</th>\n",
       "      <th>State Name</th>\n",
       "    </tr>\n",
       "  </thead>\n",
       "  <tbody>\n",
       "    <tr>\n",
       "      <th>0</th>\n",
       "      <td>10/11/2023</td>\n",
       "      <td>AL</td>\n",
       "      <td>88242</td>\n",
       "      <td>147</td>\n",
       "      <td>Female</td>\n",
       "      <td>2 to 4</td>\n",
       "      <td>Alabama</td>\n",
       "    </tr>\n",
       "    <tr>\n",
       "      <th>1</th>\n",
       "      <td>10/11/2023</td>\n",
       "      <td>AR</td>\n",
       "      <td>291030</td>\n",
       "      <td>44168</td>\n",
       "      <td>Female</td>\n",
       "      <td>50 to 64</td>\n",
       "      <td>Arkansas</td>\n",
       "    </tr>\n",
       "    <tr>\n",
       "      <th>2</th>\n",
       "      <td>10/11/2023</td>\n",
       "      <td>CA</td>\n",
       "      <td>4290688</td>\n",
       "      <td>756614</td>\n",
       "      <td>Female</td>\n",
       "      <td>25 to 39</td>\n",
       "      <td>California</td>\n",
       "    </tr>\n",
       "    <tr>\n",
       "      <th>3</th>\n",
       "      <td>10/11/2023</td>\n",
       "      <td>CO</td>\n",
       "      <td>640481</td>\n",
       "      <td>121887</td>\n",
       "      <td>Female</td>\n",
       "      <td>25 to 39</td>\n",
       "      <td>Colorado</td>\n",
       "    </tr>\n",
       "    <tr>\n",
       "      <th>4</th>\n",
       "      <td>10/11/2023</td>\n",
       "      <td>CT</td>\n",
       "      <td>34109</td>\n",
       "      <td>655</td>\n",
       "      <td>Female</td>\n",
       "      <td>&lt; 2</td>\n",
       "      <td>Connecticut</td>\n",
       "    </tr>\n",
       "  </tbody>\n",
       "</table>\n",
       "</div>"
      ],
      "text/plain": [
       "         Date State   Census  Up to Date  Gender Age Group   State Name\n",
       "0  10/11/2023    AL    88242         147  Female    2 to 4      Alabama\n",
       "1  10/11/2023    AR   291030       44168  Female  50 to 64     Arkansas\n",
       "2  10/11/2023    CA  4290688      756614  Female  25 to 39   California\n",
       "3  10/11/2023    CO   640481      121887  Female  25 to 39     Colorado\n",
       "4  10/11/2023    CT    34109         655  Female       < 2  Connecticut"
      ]
     },
     "execution_count": 26,
     "metadata": {},
     "output_type": "execute_result"
    }
   ],
   "source": [
    "# Verify the changes\n",
    "df0.head()"
   ]
  },
  {
   "cell_type": "markdown",
   "metadata": {},
   "source": [
    "I prefer to have state names to display in tooltips on a map in Tableau, so better to add them now with a few lines of code than have to manually add them later."
   ]
  },
  {
   "cell_type": "code",
   "execution_count": 27,
   "metadata": {},
   "outputs": [
    {
     "name": "stdout",
     "output_type": "stream",
     "text": [
      "<class 'pandas.core.frame.DataFrame'>\n",
      "RangeIndex: 4285 entries, 0 to 4284\n",
      "Data columns (total 7 columns):\n",
      " #   Column      Non-Null Count  Dtype \n",
      "---  ------      --------------  ----- \n",
      " 0   Date        4285 non-null   object\n",
      " 1   State       4285 non-null   object\n",
      " 2   Census      4285 non-null   int64 \n",
      " 3   Up to Date  4285 non-null   int64 \n",
      " 4   Gender      4285 non-null   object\n",
      " 5   Age Group   4285 non-null   object\n",
      " 6   State Name  4285 non-null   object\n",
      "dtypes: int64(2), object(5)\n",
      "memory usage: 234.5+ KB\n"
     ]
    }
   ],
   "source": [
    "# Check to see how many records remain\n",
    "df0.info()"
   ]
  },
  {
   "cell_type": "markdown",
   "metadata": {},
   "source": [
    "We still have 4,285 records. Nothing unexpected happened. "
   ]
  },
  {
   "cell_type": "code",
   "execution_count": 28,
   "metadata": {},
   "outputs": [],
   "source": [
    "# Save df0 to csv\n",
    "df0.to_csv('COVID 19 Up to Date US.csv', index=False, encoding='utf-8')"
   ]
  },
  {
   "cell_type": "markdown",
   "metadata": {},
   "source": [
    "Save cleaned data for visualization in Tableau."
   ]
  }
 ],
 "metadata": {
  "kernelspec": {
   "display_name": "Python 3",
   "language": "python",
   "name": "python3"
  },
  "language_info": {
   "codemirror_mode": {
    "name": "ipython",
    "version": 3
   },
   "file_extension": ".py",
   "mimetype": "text/x-python",
   "name": "python",
   "nbconvert_exporter": "python",
   "pygments_lexer": "ipython3",
   "version": "3.12.0"
  }
 },
 "nbformat": 4,
 "nbformat_minor": 2
}
